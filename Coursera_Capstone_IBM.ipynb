{
  "nbformat": 4,
  "nbformat_minor": 0,
  "metadata": {
    "colab": {
      "name": "Coursera_Capstone_IBM.ipynb",
      "provenance": [],
      "collapsed_sections": [],
      "authorship_tag": "ABX9TyMoU1oBqPP9qqvA3/D/oEpb",
      "include_colab_link": true
    },
    "kernelspec": {
      "name": "python3",
      "display_name": "Python 3"
    }
  },
  "cells": [
    {
      "cell_type": "markdown",
      "metadata": {
        "id": "view-in-github",
        "colab_type": "text"
      },
      "source": [
        "<a href=\"https://colab.research.google.com/github/AecioLima/datasciencecoursera/blob/master/Coursera_Capstone_IBM.ipynb\" target=\"_parent\"><img src=\"https://colab.research.google.com/assets/colab-badge.svg\" alt=\"Open In Colab\"/></a>"
      ]
    },
    {
      "cell_type": "markdown",
      "metadata": {
        "id": "933y55Bw7XLN",
        "colab_type": "text"
      },
      "source": [
        "# **My Capstone Project in Coursera**"
      ]
    },
    {
      "cell_type": "markdown",
      "metadata": {
        "id": "mIpcUdpu7sAf",
        "colab_type": "text"
      },
      "source": [
        "This Notebook is for capstone project in the course IBM Data Science in Coursera.\n",
        "\n",
        "My name is Aécio Lima"
      ]
    },
    {
      "cell_type": "code",
      "metadata": {
        "id": "g5Ex_5NF75bm",
        "colab_type": "code",
        "colab": {}
      },
      "source": [
        "#Libraries\n",
        "import pandas as pd\n",
        "import numpy as np"
      ],
      "execution_count": 0,
      "outputs": []
    },
    {
      "cell_type": "code",
      "metadata": {
        "id": "WKjnM44l_o9i",
        "colab_type": "code",
        "colab": {
          "base_uri": "https://localhost:8080/",
          "height": 34
        },
        "outputId": "8b028e2f-852c-4983-e57c-c005099df15b"
      },
      "source": [
        "string = 'Hello Capstone Project Course!'\n",
        "print(string)"
      ],
      "execution_count": 3,
      "outputs": [
        {
          "output_type": "stream",
          "text": [
            "Hello Capstone Project Course!\n"
          ],
          "name": "stdout"
        }
      ]
    }
  ]
}